{
 "cells": [
  {
   "cell_type": "markdown",
   "id": "a8dd1cef-70d5-42fc-a91c-1f37100907cb",
   "metadata": {},
   "source": [
    "# Importing libraries"
   ]
  },
  {
   "cell_type": "code",
   "execution_count": 2,
   "id": "ffdf664d-925e-409a-b638-221315f2ba50",
   "metadata": {},
   "outputs": [],
   "source": [
    "# Import libraries\n",
    "import pandas as pd\n",
    "import numpy as np\n",
    "import os"
   ]
  },
  {
   "cell_type": "markdown",
   "id": "6221f3a4-d481-4197-8ad5-dccfae49c421",
   "metadata": {},
   "source": [
    "## 1 "
   ]
  },
  {
   "cell_type": "code",
   "execution_count": 4,
   "id": "7aca8bc9-cddd-4130-9eaa-11506bc3beb8",
   "metadata": {},
   "outputs": [],
   "source": [
    "x = 25"
   ]
  },
  {
   "cell_type": "code",
   "execution_count": 5,
   "id": "9f14d921-c48c-430a-8ded-6701d6eb5a40",
   "metadata": {},
   "outputs": [
    {
     "data": {
      "text/plain": [
       "int"
      ]
     },
     "execution_count": 5,
     "metadata": {},
     "output_type": "execute_result"
    }
   ],
   "source": [
    "type (x)"
   ]
  },
  {
   "cell_type": "code",
   "execution_count": 6,
   "id": "3ef4dcbb-dbc0-44e5-b5fe-063654f8e57f",
   "metadata": {},
   "outputs": [],
   "source": [
    "x += 25\n",
    "x += 25\n",
    "x += 25"
   ]
  },
  {
   "cell_type": "code",
   "execution_count": 7,
   "id": "0a5ccd6f-7e1b-4d28-a687-04e1a6172c4c",
   "metadata": {},
   "outputs": [
    {
     "name": "stdout",
     "output_type": "stream",
     "text": [
      "100\n"
     ]
    }
   ],
   "source": [
    "print(x)"
   ]
  },
  {
   "cell_type": "markdown",
   "id": "011d50ff-8f03-46bb-bdbb-2d70dd782b47",
   "metadata": {},
   "source": [
    "## 2"
   ]
  },
  {
   "cell_type": "code",
   "execution_count": 9,
   "id": "254b283f-de40-45cc-8089-13d8cb7dcb6d",
   "metadata": {},
   "outputs": [],
   "source": [
    "z=200"
   ]
  },
  {
   "cell_type": "code",
   "execution_count": 10,
   "id": "42f2b268-3af7-498e-a9cd-4e460e053033",
   "metadata": {},
   "outputs": [
    {
     "data": {
      "text/plain": [
       "int"
      ]
     },
     "execution_count": 10,
     "metadata": {},
     "output_type": "execute_result"
    }
   ],
   "source": [
    "type (z)"
   ]
  },
  {
   "cell_type": "code",
   "execution_count": 11,
   "id": "1e3e6257-297a-4515-87aa-3a3d683950e2",
   "metadata": {},
   "outputs": [
    {
     "name": "stdout",
     "output_type": "stream",
     "text": [
      "100.0\n"
     ]
    }
   ],
   "source": [
    "print(z/2)"
   ]
  },
  {
   "cell_type": "markdown",
   "id": "5b744dc0-53aa-40eb-893c-59dcfb3fe2f0",
   "metadata": {},
   "source": [
    "## 3"
   ]
  },
  {
   "cell_type": "code",
   "execution_count": 13,
   "id": "88db401b-4b02-41c5-81ba-9aed74e2f6a5",
   "metadata": {
    "scrolled": true
   },
   "outputs": [
    {
     "name": "stdout",
     "output_type": "stream",
     "text": [
      "100\n"
     ]
    }
   ],
   "source": [
    "print (200-100)"
   ]
  },
  {
   "cell_type": "markdown",
   "id": "9cc5418f-bcb0-4ad1-8846-deae0cffea58",
   "metadata": {},
   "source": [
    "## Floating"
   ]
  },
  {
   "cell_type": "code",
   "execution_count": 15,
   "id": "a18538db-8476-4baf-8a30-9631e313a3f3",
   "metadata": {},
   "outputs": [
    {
     "name": "stdout",
     "output_type": "stream",
     "text": [
      "5.790086206896553\n"
     ]
    }
   ],
   "source": [
    "b=134.33\n",
    "d=23.2\n",
    "print(b/d)"
   ]
  },
  {
   "cell_type": "markdown",
   "id": "4f83b3e3-58d8-47ae-b022-19bc67a06739",
   "metadata": {},
   "source": [
    "## Separate strings"
   ]
  },
  {
   "cell_type": "code",
   "execution_count": 17,
   "id": "4176325d-0a33-4248-9b51-8185388a5b59",
   "metadata": {},
   "outputs": [
    {
     "name": "stdout",
     "output_type": "stream",
     "text": [
      "hello world\n"
     ]
    }
   ],
   "source": [
    "l= \"hello \"\n",
    "m= \"world\"\n",
    "print (l+m)"
   ]
  },
  {
   "cell_type": "markdown",
   "id": "a027942c-6cfa-49ce-828a-71bdc59fdb74",
   "metadata": {},
   "source": [
    "## Bonus"
   ]
  },
  {
   "cell_type": "code",
   "execution_count": 19,
   "id": "32c9d3fd-321a-419d-aab7-a4fc153841d0",
   "metadata": {},
   "outputs": [
    {
     "name": "stdout",
     "output_type": "stream",
     "text": [
      "hello world\n",
      "hello world\n",
      "hello world\n",
      "hello world\n",
      "hello world\n",
      "hello world\n",
      "hello world\n",
      "hello world\n",
      "hello world\n",
      "hello world\n",
      "hello world\n",
      "hello world\n",
      "hello world\n",
      "hello world\n",
      "hello world\n",
      "hello world\n",
      "hello world\n",
      "hello world\n",
      "hello world\n",
      "hello world\n",
      "hello world\n",
      "hello world\n",
      "hello world\n",
      "hello world\n",
      "hello world\n",
      "hello world\n",
      "hello world\n",
      "hello world\n",
      "hello world\n",
      "hello world\n",
      "hello world\n",
      "hello world\n",
      "hello world\n",
      "hello world\n",
      "hello world\n",
      "hello world\n",
      "hello world\n",
      "hello world\n",
      "hello world\n",
      "hello world\n",
      "hello world\n",
      "hello world\n",
      "hello world\n",
      "hello world\n",
      "hello world\n",
      "hello world\n",
      "hello world\n",
      "hello world\n",
      "hello world\n",
      "hello world\n",
      "hello world\n",
      "hello world\n",
      "hello world\n",
      "hello world\n",
      "hello world\n",
      "hello world\n",
      "hello world\n",
      "hello world\n",
      "hello world\n",
      "hello world\n",
      "hello world\n",
      "hello world\n",
      "hello world\n",
      "hello world\n",
      "hello world\n",
      "hello world\n",
      "hello world\n",
      "hello world\n",
      "hello world\n",
      "hello world\n",
      "hello world\n",
      "hello world\n",
      "hello world\n",
      "hello world\n",
      "hello world\n",
      "hello world\n",
      "hello world\n",
      "hello world\n",
      "hello world\n",
      "hello world\n",
      "hello world\n",
      "hello world\n",
      "hello world\n",
      "hello world\n",
      "hello world\n",
      "hello world\n",
      "hello world\n",
      "hello world\n",
      "hello world\n",
      "hello world\n",
      "hello world\n",
      "hello world\n",
      "hello world\n",
      "hello world\n",
      "hello world\n",
      "hello world\n",
      "hello world\n",
      "hello world\n",
      "hello world\n",
      "hello world\n",
      "hello world\n"
     ]
    }
   ],
   "source": [
    "i = 0\n",
    "while i <= 100:\n",
    "  print(l+m)\n",
    "  i = i + 1"
   ]
  },
  {
   "cell_type": "code",
   "execution_count": null,
   "id": "84204890-07ac-48f4-8d98-3f952318845d",
   "metadata": {},
   "outputs": [],
   "source": []
  }
 ],
 "metadata": {
  "kernelspec": {
   "display_name": "Python [conda env:base] *",
   "language": "python",
   "name": "conda-base-py"
  },
  "language_info": {
   "codemirror_mode": {
    "name": "ipython",
    "version": 3
   },
   "file_extension": ".py",
   "mimetype": "text/x-python",
   "name": "python",
   "nbconvert_exporter": "python",
   "pygments_lexer": "ipython3",
   "version": "3.12.7"
  }
 },
 "nbformat": 4,
 "nbformat_minor": 5
}
